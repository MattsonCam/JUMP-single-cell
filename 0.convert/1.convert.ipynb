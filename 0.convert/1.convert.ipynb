{
 "cells": [
  {
   "cell_type": "markdown",
   "id": "ea1f91f2-d710-4939-86d0-2f4c90351d97",
   "metadata": {},
   "source": [
    "## Convert SQLite files to parquet\n",
    "\n",
    "1. Load SQLite manifest\n",
    "2. Use CytoTable to merge single cells and convert to parquet\n",
    "3. Save converted files to disk"
   ]
  },
  {
   "cell_type": "code",
   "execution_count": 1,
   "id": "1798c331-0970-47c5-b769-54d7da98bdbd",
   "metadata": {
    "tags": []
   },
   "outputs": [],
   "source": [
    "import pathlib\n",
    "import pandas as pd\n",
    "\n",
    "import cytotable\n",
    "from parsl.config import Config\n",
    "from parsl.executors import HighThroughputExecutor"
   ]
  },
  {
   "cell_type": "code",
   "execution_count": 2,
   "id": "9321f0dd-3e36-4c0c-a011-36c5660732c3",
   "metadata": {
    "tags": []
   },
   "outputs": [],
   "source": [
    "# Set constants\n",
    "manifest_file = pathlib.Path(\"metadata\", \"jump_sqlite_aws_file_locations.tsv\")"
   ]
  },
  {
   "cell_type": "code",
   "execution_count": 3,
   "id": "44a09f1a-8481-4860-9ba4-a9bc90b9bfed",
   "metadata": {
    "tags": []
   },
   "outputs": [
    {
     "name": "stdout",
     "output_type": "stream",
     "text": [
      "(2380, 5)\n"
     ]
    },
    {
     "data": {
      "text/html": [
       "<div>\n",
       "<style scoped>\n",
       "    .dataframe tbody tr th:only-of-type {\n",
       "        vertical-align: middle;\n",
       "    }\n",
       "\n",
       "    .dataframe tbody tr th {\n",
       "        vertical-align: top;\n",
       "    }\n",
       "\n",
       "    .dataframe thead th {\n",
       "        text-align: right;\n",
       "    }\n",
       "</style>\n",
       "<table border=\"1\" class=\"dataframe\">\n",
       "  <thead>\n",
       "    <tr style=\"text-align: right;\">\n",
       "      <th></th>\n",
       "      <th>source</th>\n",
       "      <th>batch</th>\n",
       "      <th>plate</th>\n",
       "      <th>sqlite_file</th>\n",
       "      <th>Metadata_PlateType</th>\n",
       "    </tr>\n",
       "  </thead>\n",
       "  <tbody>\n",
       "    <tr>\n",
       "      <th>0</th>\n",
       "      <td>source_1</td>\n",
       "      <td>Batch1_20221004</td>\n",
       "      <td>UL000109</td>\n",
       "      <td>s3://cellpainting-gallery/cpg0016-jump/source_...</td>\n",
       "      <td>COMPOUND_EMPTY</td>\n",
       "    </tr>\n",
       "    <tr>\n",
       "      <th>1</th>\n",
       "      <td>source_1</td>\n",
       "      <td>Batch1_20221004</td>\n",
       "      <td>UL001641</td>\n",
       "      <td>s3://cellpainting-gallery/cpg0016-jump/source_...</td>\n",
       "      <td>COMPOUND</td>\n",
       "    </tr>\n",
       "    <tr>\n",
       "      <th>2</th>\n",
       "      <td>source_1</td>\n",
       "      <td>Batch1_20221004</td>\n",
       "      <td>UL001643</td>\n",
       "      <td>s3://cellpainting-gallery/cpg0016-jump/source_...</td>\n",
       "      <td>COMPOUND</td>\n",
       "    </tr>\n",
       "    <tr>\n",
       "      <th>3</th>\n",
       "      <td>source_1</td>\n",
       "      <td>Batch1_20221004</td>\n",
       "      <td>UL001645</td>\n",
       "      <td>s3://cellpainting-gallery/cpg0016-jump/source_...</td>\n",
       "      <td>COMPOUND</td>\n",
       "    </tr>\n",
       "    <tr>\n",
       "      <th>4</th>\n",
       "      <td>source_1</td>\n",
       "      <td>Batch1_20221004</td>\n",
       "      <td>UL001651</td>\n",
       "      <td>s3://cellpainting-gallery/cpg0016-jump/source_...</td>\n",
       "      <td>COMPOUND</td>\n",
       "    </tr>\n",
       "  </tbody>\n",
       "</table>\n",
       "</div>"
      ],
      "text/plain": [
       "     source            batch     plate   \n",
       "0  source_1  Batch1_20221004  UL000109  \\\n",
       "1  source_1  Batch1_20221004  UL001641   \n",
       "2  source_1  Batch1_20221004  UL001643   \n",
       "3  source_1  Batch1_20221004  UL001645   \n",
       "4  source_1  Batch1_20221004  UL001651   \n",
       "\n",
       "                                         sqlite_file Metadata_PlateType  \n",
       "0  s3://cellpainting-gallery/cpg0016-jump/source_...     COMPOUND_EMPTY  \n",
       "1  s3://cellpainting-gallery/cpg0016-jump/source_...           COMPOUND  \n",
       "2  s3://cellpainting-gallery/cpg0016-jump/source_...           COMPOUND  \n",
       "3  s3://cellpainting-gallery/cpg0016-jump/source_...           COMPOUND  \n",
       "4  s3://cellpainting-gallery/cpg0016-jump/source_...           COMPOUND  "
      ]
     },
     "execution_count": 3,
     "metadata": {},
     "output_type": "execute_result"
    }
   ],
   "source": [
    "manifest_df = pd.read_csv(manifest_file, sep=\"\\t\")\n",
    "\n",
    "print(manifest_df.shape)\n",
    "manifest_df.head()"
   ]
  },
  {
   "cell_type": "code",
   "execution_count": 4,
   "id": "aa37e0e1-abce-4adb-ac0a-d6d84e751a9e",
   "metadata": {
    "tags": []
   },
   "outputs": [
    {
     "data": {
      "text/plain": [
       "'s3://cellpainting-gallery/cpg0016-jump/source_1/workspace/backend/Batch1_20221004/UL001643'"
      ]
     },
     "execution_count": 4,
     "metadata": {},
     "output_type": "execute_result"
    }
   ],
   "source": [
    "\"/\".join(manifest_df.sqlite_file[2].split(\"/\")[0:-1])"
   ]
  },
  {
   "cell_type": "code",
   "execution_count": 5,
   "id": "95df914b-5a57-47dc-b20f-b6da4782288a",
   "metadata": {},
   "outputs": [],
   "source": [
    "parsl_config = Config(\n",
    "    executors=[\n",
    "        HighThroughputExecutor()\n",
    "    ]\n",
    ")"
   ]
  },
  {
   "cell_type": "code",
   "execution_count": null,
   "id": "41e1b308-c416-4400-ae58-eaa60e15867c",
   "metadata": {
    "tags": []
   },
   "outputs": [],
   "source": [
    "%%time\n",
    "what = cytotable.convert(\n",
    "    source_path=\"/\".join(manifest_df.sqlite_file[2].split(\"/\")[0:-1]),\n",
    "    dest_path=\"test2.parquet\",\n",
    "    dest_datatype=\"parquet\",\n",
    "    chunk_size=150000,\n",
    "    parsl_config=parsl_config,\n",
    "    preset=\"cellprofiler_sqlite_pycytominer\"\n",
    ")"
   ]
  },
  {
   "cell_type": "code",
   "execution_count": null,
   "id": "aeccc077-4e91-46a6-a4a2-645c9ba2c316",
   "metadata": {},
   "outputs": [],
   "source": []
  }
 ],
 "metadata": {
  "kernelspec": {
   "display_name": "Python [conda env:jump_sc] *",
   "language": "python",
   "name": "conda-env-jump_sc-py"
  },
  "language_info": {
   "codemirror_mode": {
    "name": "ipython",
    "version": 3
   },
   "file_extension": ".py",
   "mimetype": "text/x-python",
   "name": "python",
   "nbconvert_exporter": "python",
   "pygments_lexer": "ipython3",
   "version": "3.10.11"
  }
 },
 "nbformat": 4,
 "nbformat_minor": 5
}
