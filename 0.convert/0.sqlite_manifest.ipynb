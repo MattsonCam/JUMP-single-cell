{
 "cells": [
  {
   "cell_type": "markdown",
   "id": "79d3d264-9aa1-4782-a7d5-c1adda011368",
   "metadata": {},
   "source": [
    "## Process JUMP SQLite files\n",
    "\n",
    "1. Load file paths from AWS\n",
    "2. Append perturbation types from https://github.com/jump-cellpainting/datasets\n",
    "3. Output file manifest"
   ]
  },
  {
   "cell_type": "code",
   "execution_count": 1,
   "id": "ec4f41d6-8977-45df-ae15-45ad225ecec6",
   "metadata": {
    "tags": []
   },
   "outputs": [],
   "source": [
    "import boto3\n",
    "import pathlib\n",
    "import pandas as pd"
   ]
  },
  {
   "cell_type": "code",
   "execution_count": 2,
   "id": "209bbb5a-8796-492f-ad3a-747bfeb3cf0e",
   "metadata": {
    "tags": []
   },
   "outputs": [],
   "source": [
    "# Set constants\n",
    "jump_id = \"cpg0016-jump\"\n",
    "s3_bucket_name = \"cellpainting-gallery\"\n",
    "backend_directory = \"workspace/backend/\"\n",
    "\n",
    "jump_data_commit = \"4b24577c2d3228d92177b807fa53fbbc623da1cb\"\n",
    "jump_github = \"https://github.com/jump-cellpainting/datasets/\"\n",
    "perturbation_type_url = f\"{jump_github}/raw/{jump_data_commit}/metadata/plate.csv.gz\"\n",
    "\n",
    "output_file = pathlib.Path(\"metadata\", \"jump_sqlite_aws_file_locations.tsv\")"
   ]
  },
  {
   "cell_type": "code",
   "execution_count": 3,
   "id": "52e27842-f016-4a05-bde8-fb8347bac9c7",
   "metadata": {
    "tags": []
   },
   "outputs": [],
   "source": [
    "# Connect to Cell Painting gallery S3 session\n",
    "# Note: you must have already configured awscli with credentials\n",
    "session = boto3.Session()\n",
    "s3 = session.resource(\"s3\")\n",
    "\n",
    "cell_painting_gallery = s3.Bucket(s3_bucket_name)"
   ]
  },
  {
   "cell_type": "code",
   "execution_count": 4,
   "id": "895b1f70-f734-40fc-9142-7c05839fada6",
   "metadata": {
    "tags": []
   },
   "outputs": [
    {
     "data": {
      "text/plain": [
       "['source_1',\n",
       " 'source_10',\n",
       " 'source_11',\n",
       " 'source_13',\n",
       " 'source_2',\n",
       " 'source_3',\n",
       " 'source_4',\n",
       " 'source_5',\n",
       " 'source_6',\n",
       " 'source_7',\n",
       " 'source_8',\n",
       " 'source_9']"
      ]
     },
     "execution_count": 4,
     "metadata": {},
     "output_type": "execute_result"
    }
   ],
   "source": [
    "# Use client to list source directories\n",
    "# Sources represent different sites from the JUMP consortium\n",
    "client = boto3.client(\"s3\")\n",
    "\n",
    "top_level_jump_result = client.list_objects(\n",
    "    Bucket=s3_bucket_name,\n",
    "    Prefix=f\"{jump_id}/\",\n",
    "    Delimiter=\"/\"\n",
    ")\n",
    "\n",
    "data_collection_sources = []\n",
    "for source_directory in top_level_jump_result.get(\"CommonPrefixes\"):\n",
    "    data_collection_sources.append(source_directory.get(\"Prefix\").split(\"/\")[1])\n",
    "    \n",
    "data_collection_sources"
   ]
  },
  {
   "cell_type": "code",
   "execution_count": 5,
   "id": "358d0953-9b05-4e04-a01a-d2696f37195b",
   "metadata": {
    "tags": []
   },
   "outputs": [
    {
     "data": {
      "text/plain": [
       "{'source_1': ['Batch1_20221004',\n",
       "  'Batch2_20221006',\n",
       "  'Batch3_20221010',\n",
       "  'Batch4_20221012',\n",
       "  'Batch5_20221030',\n",
       "  'Batch6_20221102'],\n",
       " 'source_10': ['2021_05_31_U2OS_48_hr_run1',\n",
       "  '2021_06_01_U2OS_48_hr_run2',\n",
       "  '2021_06_07_U2OS_48_hr_run3',\n",
       "  '2021_06_08_U2OS_48_hr_run4',\n",
       "  '2021_06_14_U2OS_48_hr_run5',\n",
       "  '2021_06_15_U2OS_48_hr_run6',\n",
       "  '2021_06_21_U2OS_48_hr_run7',\n",
       "  '2021_06_22_U2OS_48_hr_run8',\n",
       "  '2021_06_28_U2OS_48_hr_run9',\n",
       "  '2021_07_05_U2OS_48_hr_run10',\n",
       "  '2021_07_07_U2OS_48_hr_run11',\n",
       "  '2021_08_03_U2OS_48_hr_run12',\n",
       "  '2021_08_09_U2OS_48_hr_run13',\n",
       "  '2021_08_12_U2OS_48_hr_run15',\n",
       "  '2021_08_17_U2OS_48_hr_run16',\n",
       "  '2021_08_20_U2OS_48_hr_run17',\n",
       "  '2021_08_23_U2OS_48_hr_run18',\n",
       "  '2021_08_23_U2OS_48_hr_run19'],\n",
       " 'source_11': ['Batch1', 'Batch2', 'Batch3', 'Batch4', 'Batch5'],\n",
       " 'source_13': ['20220914_Run1',\n",
       "  '20221009_Run2',\n",
       "  '20221017_Run3',\n",
       "  '20221024_Run4',\n",
       "  '20221109_Run5',\n",
       "  '20221120_Run6'],\n",
       " 'source_2': ['20210607_Batch_2',\n",
       "  '20210614_Batch_1',\n",
       "  '20210621_Batch_3',\n",
       "  '20210712_Batch_5',\n",
       "  '20210719_Batch_6',\n",
       "  '20210726_Batch_7',\n",
       "  '20210802_Batch_8',\n",
       "  '20210808_Batch_4',\n",
       "  '20210816_Batch_9',\n",
       "  '20210823_Batch_10',\n",
       "  '20210830_Batch_11',\n",
       "  '20210920_Batch_12',\n",
       "  '20211003_Batch_13'],\n",
       " 'source_3': ['CP59',\n",
       "  'CP60',\n",
       "  'CP_25_all_Phenix1',\n",
       "  'CP_26_all_Phenix1',\n",
       "  'CP_27_all_Phenix1',\n",
       "  'CP_28_all_Phenix1',\n",
       "  'CP_29_all_Phenix1',\n",
       "  'CP_31_all_Phenix1',\n",
       "  'CP_32_all_Phenix1',\n",
       "  'CP_33_all_Phenix1',\n",
       "  'CP_34_mix_Phenix1',\n",
       "  'CP_35_all_Phenix1',\n",
       "  'CP_36_all_Phenix1'],\n",
       " 'source_4': ['2021_04_26_Batch1',\n",
       "  '2021_05_10_Batch3',\n",
       "  '2021_05_17_Batch4',\n",
       "  '2021_05_31_Batch2',\n",
       "  '2021_06_07_Batch5',\n",
       "  '2021_06_14_Batch6',\n",
       "  '2021_06_21_Batch7',\n",
       "  '2021_07_12_Batch8',\n",
       "  '2021_07_26_Batch9',\n",
       "  '2021_08_02_Batch10',\n",
       "  '2021_08_09_Batch11',\n",
       "  '2021_08_23_Batch12',\n",
       "  '2021_08_30_Batch13'],\n",
       " 'source_5': ['JUMPCPE-20210623-Run01_20210624_003152',\n",
       "  'JUMPCPE-20210623-Run02_20210624_225846',\n",
       "  'JUMPCPE-20210628-Run02_20210628_170203',\n",
       "  'JUMPCPE-20210628-Run03_20210629_064133',\n",
       "  'JUMPCPE-20210702-Run04_20210703_060202',\n",
       "  'JUMPCPE-20210704-Run05_20210705_025956',\n",
       "  'JUMPCPE-20210706-Run06_20210706_235916',\n",
       "  'JUMPCPE-20210709-Run07_20210709_230159',\n",
       "  'JUMPCPE-20210709-Run08_20210711_195507',\n",
       "  'JUMPCPE-20210712-Run09_20210713_003159',\n",
       "  'JUMPCPE-20210715-Run10_20210715_223420',\n",
       "  'JUMPCPE-20210716-Run11_20210717_192647',\n",
       "  'JUMPCPE-20210716-Run12_20210719_162047',\n",
       "  'JUMPCPE-20210719-Run13_20210721_131445',\n",
       "  'JUMPCPE-20210730-Run14_20210731_000211',\n",
       "  'JUMPCPE-20210730-Run15_20210801_205335',\n",
       "  'JUMPCPE-20210730-Run16_20210803_174908',\n",
       "  'JUMPCPE-20210806-Run17_20210807_000211',\n",
       "  'JUMPCPE-20210806-Run18_20210808_210526',\n",
       "  'JUMPCPE-20210811-Run18_20210811_182136',\n",
       "  'JUMPCPE-20210812-Run20_20210815_062625',\n",
       "  'JUMPCPE-20210813-Run21_20210817_031500',\n",
       "  'JUMPCPE-20210820-Run22_20210821_180957',\n",
       "  'JUMPCPE-20210820-Run23_20210823_145853',\n",
       "  'JUMPCPE-20210902-Run26_20210903_010341',\n",
       "  'JUMPCPE-20210903-Run27_20210904_215148',\n",
       "  'JUMPCPE-20210908-Run28_20210909_072022',\n",
       "  'JUMPCPE-20210909-Run29_20210910_234236',\n",
       "  'JUMPCPE-20210910-Run30_20210912_203428',\n",
       "  'JUMPCPE-20211001-Run33_20211001_152017',\n",
       "  'JUMPCPE-20211001-Run34_20211003_121618',\n",
       "  'JUMPCPE-20211007-Run35_20211007_235529',\n",
       "  'JUMPCPE-20211014-Run36_20211014_223431'],\n",
       " 'source_6': ['p210824CPU2OS48hw384exp022JUMP',\n",
       "  'p210830CPU2OS48hw384exp023JUMP',\n",
       "  'p210831CPU2OS48hw384exp024JUMP',\n",
       "  'p210906CPU2OS48hw384exp025JUMP',\n",
       "  'p210914CPU2OS48hw384exp027JUMP',\n",
       "  'p210920CPU2OS48hw384exp028JUMP',\n",
       "  'p210927CPU2OS48hw384exp029JUMP',\n",
       "  'p210928CPU2OS48hw384exp030JUMP',\n",
       "  'p211004CPU2OS48hw384exp031JUMP',\n",
       "  'p211012CPU2OS48hw384exp033JUMP',\n",
       "  'p211102CPU2OS48hw384exp034JUMP',\n",
       "  'p211109CPU2OS48hw384exp035JUMP',\n",
       "  'p211123CPU2OS48hw384exp036JUMP'],\n",
       " 'source_7': ['20210719_Run1',\n",
       "  '20210723_Run2',\n",
       "  '20210727_Run3',\n",
       "  '20210731_Run4',\n",
       "  '20210803_Run5',\n",
       "  '20211121_Run6',\n",
       "  '20211126_Run7',\n",
       "  '20211211_Run9M'],\n",
       " 'source_8': ['J1', 'J2', 'J3', 'J4'],\n",
       " 'source_9': ['20210824-Run5',\n",
       "  '20210825_Run6',\n",
       "  '20210831-Run7',\n",
       "  '20210901_Run8',\n",
       "  '20210914-Run9',\n",
       "  '20210915-Run10',\n",
       "  '20210918-Run11',\n",
       "  '20210918-Run12',\n",
       "  '20211013-Run14',\n",
       "  '20211102-Run15',\n",
       "  '20211103-Run16']}"
      ]
     },
     "execution_count": 5,
     "metadata": {},
     "output_type": "execute_result"
    }
   ],
   "source": [
    "# Obtain batch names for each source\n",
    "source_batch_dictionary = {}\n",
    "for source in data_collection_sources:\n",
    "    prefix_string_per_source = f\"{jump_id}/{source}/{backend_directory}\"\n",
    "    \n",
    "    source_prefix_where_batches_exist_client = client.list_objects(\n",
    "        Bucket=s3_bucket_name,\n",
    "        Prefix=prefix_string_per_source,\n",
    "        Delimiter=\"/\"\n",
    "    )\n",
    "    source_batch_dictionary[source] = []\n",
    "    for batch_directory in source_prefix_where_batches_exist_client.get(\"CommonPrefixes\"):\n",
    "        source_batch_dictionary[source].append(batch_directory[\"Prefix\"].split(\"/\")[-2])\n",
    "        \n",
    "source_batch_dictionary"
   ]
  },
  {
   "cell_type": "code",
   "execution_count": 6,
   "id": "7ab18890-f2b0-4542-9248-b7763399d0b3",
   "metadata": {
    "tags": []
   },
   "outputs": [],
   "source": [
    "# Get plate ids\n",
    "source_plate_dictionary = {}\n",
    "source_plate_info = []\n",
    "for source in source_batch_dictionary:\n",
    "    source_plate_dictionary[source] = {}\n",
    "    source_batches = source_batch_dictionary[source]\n",
    "    \n",
    "    for batch in source_batches:        \n",
    "        prefix_string_per_batch = f\"{jump_id}/{source}/{backend_directory}{batch}/\"\n",
    "\n",
    "        source_prefix_where_plates_exist_client = client.list_objects(\n",
    "            Bucket=s3_bucket_name,\n",
    "            Prefix=prefix_string_per_batch,\n",
    "            Delimiter=\"/\"\n",
    "        )\n",
    "        source_plate_dictionary[source][batch] = []\n",
    "\n",
    "        for plate_directory in source_prefix_where_plates_exist_client.get(\"CommonPrefixes\"):\n",
    "            plate = plate_directory[\"Prefix\"].split(\"/\")[-2]\n",
    "            source_plate_dictionary[source][batch].append(plate)\n",
    "            \n",
    "            # Build SQLite file\n",
    "            sqlite_file = f\"s3://{s3_bucket_name}/{prefix_string_per_batch}{plate}/{plate}.sqlite\"\n",
    "            source_plate_info.append([source, batch, plate, sqlite_file])"
   ]
  },
  {
   "cell_type": "code",
   "execution_count": 7,
   "id": "e4f0cc50-2ac6-4e5d-8001-a9281d6acf63",
   "metadata": {
    "tags": []
   },
   "outputs": [
    {
     "name": "stdout",
     "output_type": "stream",
     "text": [
      "(2380, 5)\n"
     ]
    },
    {
     "data": {
      "text/html": [
       "<div>\n",
       "<style scoped>\n",
       "    .dataframe tbody tr th:only-of-type {\n",
       "        vertical-align: middle;\n",
       "    }\n",
       "\n",
       "    .dataframe tbody tr th {\n",
       "        vertical-align: top;\n",
       "    }\n",
       "\n",
       "    .dataframe thead th {\n",
       "        text-align: right;\n",
       "    }\n",
       "</style>\n",
       "<table border=\"1\" class=\"dataframe\">\n",
       "  <thead>\n",
       "    <tr style=\"text-align: right;\">\n",
       "      <th></th>\n",
       "      <th>soure</th>\n",
       "      <th>batch</th>\n",
       "      <th>plate</th>\n",
       "      <th>sqlite_file</th>\n",
       "      <th>Metadata_PlateType</th>\n",
       "    </tr>\n",
       "  </thead>\n",
       "  <tbody>\n",
       "    <tr>\n",
       "      <th>0</th>\n",
       "      <td>source_1</td>\n",
       "      <td>Batch1_20221004</td>\n",
       "      <td>UL000109</td>\n",
       "      <td>s3://cellpainting-gallery/cpg0016-jump/source_...</td>\n",
       "      <td>COMPOUND_EMPTY</td>\n",
       "    </tr>\n",
       "    <tr>\n",
       "      <th>1</th>\n",
       "      <td>source_1</td>\n",
       "      <td>Batch1_20221004</td>\n",
       "      <td>UL001641</td>\n",
       "      <td>s3://cellpainting-gallery/cpg0016-jump/source_...</td>\n",
       "      <td>COMPOUND</td>\n",
       "    </tr>\n",
       "    <tr>\n",
       "      <th>2</th>\n",
       "      <td>source_1</td>\n",
       "      <td>Batch1_20221004</td>\n",
       "      <td>UL001643</td>\n",
       "      <td>s3://cellpainting-gallery/cpg0016-jump/source_...</td>\n",
       "      <td>COMPOUND</td>\n",
       "    </tr>\n",
       "    <tr>\n",
       "      <th>3</th>\n",
       "      <td>source_1</td>\n",
       "      <td>Batch1_20221004</td>\n",
       "      <td>UL001645</td>\n",
       "      <td>s3://cellpainting-gallery/cpg0016-jump/source_...</td>\n",
       "      <td>COMPOUND</td>\n",
       "    </tr>\n",
       "    <tr>\n",
       "      <th>4</th>\n",
       "      <td>source_1</td>\n",
       "      <td>Batch1_20221004</td>\n",
       "      <td>UL001651</td>\n",
       "      <td>s3://cellpainting-gallery/cpg0016-jump/source_...</td>\n",
       "      <td>COMPOUND</td>\n",
       "    </tr>\n",
       "  </tbody>\n",
       "</table>\n",
       "</div>"
      ],
      "text/plain": [
       "      soure            batch     plate   \n",
       "0  source_1  Batch1_20221004  UL000109  \\\n",
       "1  source_1  Batch1_20221004  UL001641   \n",
       "2  source_1  Batch1_20221004  UL001643   \n",
       "3  source_1  Batch1_20221004  UL001645   \n",
       "4  source_1  Batch1_20221004  UL001651   \n",
       "\n",
       "                                         sqlite_file Metadata_PlateType  \n",
       "0  s3://cellpainting-gallery/cpg0016-jump/source_...     COMPOUND_EMPTY  \n",
       "1  s3://cellpainting-gallery/cpg0016-jump/source_...           COMPOUND  \n",
       "2  s3://cellpainting-gallery/cpg0016-jump/source_...           COMPOUND  \n",
       "3  s3://cellpainting-gallery/cpg0016-jump/source_...           COMPOUND  \n",
       "4  s3://cellpainting-gallery/cpg0016-jump/source_...           COMPOUND  "
      ]
     },
     "execution_count": 7,
     "metadata": {},
     "output_type": "execute_result"
    }
   ],
   "source": [
    "# Compile JUMP data manifest\n",
    "jump_df = pd.DataFrame(source_plate_info, columns=[\"soure\", \"batch\", \"plate\", \"sqlite_file\"])\n",
    "\n",
    "# Append perturbation type to this dataframe\n",
    "# Load metadata from https://github.com/jump-cellpainting/datasets\n",
    "perturbation_type_df = pd.read_csv(perturbation_type_url)\n",
    "perturbation_cols = [\"Metadata_Source\", \"Metadata_Batch\", \"Metadata_Plate\"]\n",
    "\n",
    "jump_df = (\n",
    "    jump_df.merge(\n",
    "        perturbation_type_df,\n",
    "        left_on=[\"soure\", \"batch\", \"plate\"],\n",
    "        right_on=perturbation_cols,\n",
    "        how=\"outer\"\n",
    "    )\n",
    "    .drop(perturbation_cols, axis=\"columns\")\n",
    ")\n",
    "\n",
    "# Output file\n",
    "jump_df.to_csv(output_file, sep=\"\\t\", index=False)\n",
    "\n",
    "print(jump_df.shape)\n",
    "jump_df.head()"
   ]
  },
  {
   "cell_type": "code",
   "execution_count": 8,
   "id": "d0963a61-ff96-4eba-91e8-c4fa2245b8f3",
   "metadata": {
    "tags": []
   },
   "outputs": [
    {
     "data": {
      "text/plain": [
       "Metadata_PlateType\n",
       "COMPOUND          1729\n",
       "ORF                251\n",
       "CRISPR             148\n",
       "TARGET2            141\n",
       "DMSO                77\n",
       "COMPOUND_EMPTY      20\n",
       "POSCON8              8\n",
       "TARGET1              4\n",
       "Name: count, dtype: int64"
      ]
     },
     "execution_count": 8,
     "metadata": {},
     "output_type": "execute_result"
    }
   ],
   "source": [
    "jump_df.Metadata_PlateType.value_counts()"
   ]
  }
 ],
 "metadata": {
  "kernelspec": {
   "display_name": "Python [conda env:jump_sc] *",
   "language": "python",
   "name": "conda-env-jump_sc-py"
  },
  "language_info": {
   "codemirror_mode": {
    "name": "ipython",
    "version": 3
   },
   "file_extension": ".py",
   "mimetype": "text/x-python",
   "name": "python",
   "nbconvert_exporter": "python",
   "pygments_lexer": "ipython3",
   "version": "3.10.10"
  }
 },
 "nbformat": 4,
 "nbformat_minor": 5
}
