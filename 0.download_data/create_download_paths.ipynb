{
 "cells": [
  {
   "cell_type": "markdown",
   "metadata": {
    "jukit_cell_id": "BjXwKHb2UD"
   },
   "source": [
    "# Creates and stores the aws s3 plate data paths"
   ]
  },
  {
   "cell_type": "markdown",
   "metadata": {
    "jukit_cell_id": "Sj3yqPgfXf"
   },
   "source": [
    "## Imports"
   ]
  },
  {
   "cell_type": "code",
   "execution_count": 1,
   "metadata": {
    "jukit_cell_id": "7CjICyvASe"
   },
   "outputs": [],
   "source": [
    "import pandas as pd"
   ]
  },
  {
   "cell_type": "markdown",
   "metadata": {
    "jukit_cell_id": "oxnis1s37X"
   },
   "source": [
    "## Store the plate paths"
   ]
  },
  {
   "cell_type": "code",
   "execution_count": 2,
   "metadata": {
    "jukit_cell_id": "0jG0Szi8qZ"
   },
   "outputs": [],
   "source": [
    "source = \"source_4\"\n",
    "batch = \"2020_11_04_CPJUMP1\"\n",
    "data_locations = f\"s3://cellpainting-gallery/cpg0000-jump-pilot/{source}/workspace/backend/{batch}\"\n",
    "\n",
    "object_names = [\"BR00116991\", \"BR00116992\", \"BR00116993\", \"BR00116994\", \"BR00116995\", \"BR00116996\", \"BR00116997\", \"BR00116998\", \"BR00116999\", \"BR00117000\", \"BR00117001\", \"BR00117002\", \"BR00117003\", \"BR00117004\", \"BR00117005\", \"BR00117006\", \"BR00117008\", \"BR00117009\", \"BR00117010\", \"BR00117011\", \"BR00117012\", \"BR00117013\", \"BR00117015\", \"BR00117016\", \"BR00117017\", \"BR00117019\", \"BR00117020\", \"BR00117021\", \"BR00117022\", \"BR00117023\", \"BR00117024\", \"BR00117025\", \"BR00117026\", \"BR00117050\", \"BR00117051\", \"BR00117052\", \"BR00117053\", \"BR00117054\", \"BR00117055\", \"BR00118039\", \"BR00118040\", \"BR00118041\", \"BR00118042\", \"BR00118043\", \"BR00118044\", \"BR00118045\", \"BR00118046\", \"BR00118047\", \"BR00118048\", \"BR00118049\", \"BR00118050\"]\n",
    "\n",
    "sqlite_file = [f\"{data_locations}/{obj_name}/{obj_name}.sqlite\" for obj_name in object_names]\n",
    "\n",
    "manifest_df = pd.DataFrame(\n",
    "            {\"plate\": object_names,\n",
    "            \"sqlite_file\": sqlite_file,\n",
    "            })"
   ]
  },
  {
   "cell_type": "markdown",
   "metadata": {
    "jukit_cell_id": "vGbVlO6ord"
   },
   "source": [
    "## Save the paths data"
   ]
  },
  {
   "cell_type": "code",
   "execution_count": 3,
   "metadata": {
    "jukit_cell_id": "B670chhgfO"
   },
   "outputs": [],
   "source": [
    "manifest_df.to_csv(\"jump_paths.csv\", index=False, header=False)"
   ]
  }
 ],
 "metadata": {
  "anaconda-cloud": {},
  "kernelspec": {
   "display_name": "Python 3 (ipykernel)",
   "language": "python",
   "name": "python3"
  },
  "language_info": {
   "codemirror_mode": {
    "name": "ipython",
    "version": 3
   },
   "file_extension": ".py",
   "mimetype": "text/x-python",
   "name": "python",
   "nbconvert_exporter": "python",
   "pygments_lexer": "ipython3",
   "version": "3.7.16"
  }
 },
 "nbformat": 4,
 "nbformat_minor": 4
}
