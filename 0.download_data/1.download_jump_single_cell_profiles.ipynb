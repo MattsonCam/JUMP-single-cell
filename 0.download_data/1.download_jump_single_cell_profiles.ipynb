{
 "cells": [
  {
   "cell_type": "markdown",
   "metadata": {
    "jukit_cell_id": "7T0gePh3Zn"
   },
   "source": [
    "# Download sqlite plate data from aws\n",
    "Note, this script was not rerun to display the outputs for the sake of time. To download the data, you must be signed into your aws account"
   ]
  },
  {
   "cell_type": "markdown",
   "metadata": {
    "jukit_cell_id": "ddhh5egm7R"
   },
   "source": [
    "## Imports"
   ]
  },
  {
   "cell_type": "code",
   "execution_count": 1,
   "metadata": {
    "execution": {
     "iopub.execute_input": "2023-08-08T21:57:10.124177Z",
     "iopub.status.busy": "2023-08-08T21:57:10.123792Z",
     "iopub.status.idle": "2023-08-08T21:57:10.129775Z",
     "shell.execute_reply": "2023-08-08T21:57:10.129402Z"
    },
    "jukit_cell_id": "XqllLfeEBZ"
   },
   "outputs": [],
   "source": [
    "import pathlib\n",
    "import subprocess"
   ]
  },
  {
   "cell_type": "markdown",
   "metadata": {
    "jukit_cell_id": "q52bES5PJV"
   },
   "source": [
    "## Find the root of the git directory\n",
    "This allows file paths to be referenced in a system agnostic way"
   ]
  },
  {
   "cell_type": "code",
   "execution_count": 2,
   "metadata": {
    "execution": {
     "iopub.execute_input": "2023-08-08T21:57:10.131585Z",
     "iopub.status.busy": "2023-08-08T21:57:10.131488Z",
     "iopub.status.idle": "2023-08-08T21:57:10.133899Z",
     "shell.execute_reply": "2023-08-08T21:57:10.133646Z"
    },
    "jukit_cell_id": "xCbL8BuHjD"
   },
   "outputs": [],
   "source": [
    "# Get the current working directory\n",
    "cwd = pathlib.Path.cwd()\n",
    "\n",
    "if (cwd / \".git\").is_dir():\n",
    "    root_dir = cwd\n",
    "\n",
    "else:\n",
    "    root_dir = None\n",
    "    for parent in cwd.parents:\n",
    "        if (parent / \".git\").is_dir():\n",
    "            root_dir = parent\n",
    "            break\n",
    "\n",
    "# Check if a Git root directory was found\n",
    "if root_dir is None:\n",
    "    raise FileNotFoundError(\"No Git root directory found.\")"
   ]
  },
  {
   "cell_type": "markdown",
   "metadata": {
    "jukit_cell_id": "DgPm3tAEsr"
   },
   "source": [
    "## Download the plate sqlite data from AWS S3"
   ]
  },
  {
   "cell_type": "code",
   "execution_count": 3,
   "metadata": {
    "execution": {
     "iopub.execute_input": "2023-08-08T21:57:10.135705Z",
     "iopub.status.busy": "2023-08-08T21:57:10.135466Z",
     "iopub.status.idle": "2023-08-09T07:29:53.550491Z",
     "shell.execute_reply": "2023-08-09T07:29:53.550165Z"
    },
    "jukit_cell_id": "NDX1gPfGsN"
   },
   "outputs": [
    {
     "name": "stdout",
     "output_type": "stream",
     "text": [
      "download: s3://cellpainting-gallery/cpg0000-jump-pilot/source_4/workspace/backend/2020_11_04_CPJUMP1/BR00117006/BR00117006.sqlite to ../big_drive/sc_data/BR00117006.sqlite\n",
      "download: s3://cellpainting-gallery/cpg0000-jump-pilot/source_4/workspace/backend/2020_11_04_CPJUMP1/BR00118049/BR00118049.sqlite to ../big_drive/sc_data/BR00118049.sqlite\n",
      "download: s3://cellpainting-gallery/cpg0000-jump-pilot/source_4/workspace/backend/2020_11_04_CPJUMP1/BR00118050/BR00118050.sqlite to ../big_drive/sc_data/BR00118050.sqlite\n",
      "download: s3://cellpainting-gallery/cpg0000-jump-pilot/source_4/workspace/backend/2020_11_04_CPJUMP1/BR00118039/BR00118039.sqlite to ../big_drive/sc_data/BR00118039.sqlite\n",
      "download: s3://cellpainting-gallery/cpg0000-jump-pilot/source_4/workspace/backend/2020_11_04_CPJUMP1/BR00118040/BR00118040.sqlite to ../big_drive/sc_data/BR00118040.sqlite\n",
      "download: s3://cellpainting-gallery/cpg0000-jump-pilot/source_4/workspace/backend/2020_11_04_CPJUMP1/BR00117020/BR00117020.sqlite to ../big_drive/sc_data/BR00117020.sqlite\n",
      "download: s3://cellpainting-gallery/cpg0000-jump-pilot/source_4/workspace/backend/2020_11_04_CPJUMP1/BR00117021/BR00117021.sqlite to ../big_drive/sc_data/BR00117021.sqlite\n",
      "download: s3://cellpainting-gallery/cpg0000-jump-pilot/source_4/workspace/backend/2020_11_04_CPJUMP1/BR00117022/BR00117022.sqlite to ../big_drive/sc_data/BR00117022.sqlite\n",
      "download: s3://cellpainting-gallery/cpg0000-jump-pilot/source_4/workspace/backend/2020_11_04_CPJUMP1/BR00117023/BR00117023.sqlite to ../big_drive/sc_data/BR00117023.sqlite\n",
      "download: s3://cellpainting-gallery/cpg0000-jump-pilot/source_4/workspace/backend/2020_11_04_CPJUMP1/BR00118041/BR00118041.sqlite to ../big_drive/sc_data/BR00118041.sqlite\n",
      "download: s3://cellpainting-gallery/cpg0000-jump-pilot/source_4/workspace/backend/2020_11_04_CPJUMP1/BR00118042/BR00118042.sqlite to ../big_drive/sc_data/BR00118042.sqlite\n",
      "download: s3://cellpainting-gallery/cpg0000-jump-pilot/source_4/workspace/backend/2020_11_04_CPJUMP1/BR00118043/BR00118043.sqlite to ../big_drive/sc_data/BR00118043.sqlite\n",
      "download: s3://cellpainting-gallery/cpg0000-jump-pilot/source_4/workspace/backend/2020_11_04_CPJUMP1/BR00118044/BR00118044.sqlite to ../big_drive/sc_data/BR00118044.sqlite\n",
      "download: s3://cellpainting-gallery/cpg0000-jump-pilot/source_4/workspace/backend/2020_11_04_CPJUMP1/BR00118045/BR00118045.sqlite to ../big_drive/sc_data/BR00118045.sqlite\n",
      "download: s3://cellpainting-gallery/cpg0000-jump-pilot/source_4/workspace/backend/2020_11_04_CPJUMP1/BR00118046/BR00118046.sqlite to ../big_drive/sc_data/BR00118046.sqlite\n",
      "download: s3://cellpainting-gallery/cpg0000-jump-pilot/source_4/workspace/backend/2020_11_04_CPJUMP1/BR00118047/BR00118047.sqlite to ../big_drive/sc_data/BR00118047.sqlite\n",
      "download: s3://cellpainting-gallery/cpg0000-jump-pilot/source_4/workspace/backend/2020_11_04_CPJUMP1/BR00118048/BR00118048.sqlite to ../big_drive/sc_data/BR00118048.sqlite\n",
      "download: s3://cellpainting-gallery/cpg0000-jump-pilot/source_4/workspace/backend/2020_11_04_CPJUMP1/BR00117003/BR00117003.sqlite to ../big_drive/sc_data/BR00117003.sqlite\n",
      "download: s3://cellpainting-gallery/cpg0000-jump-pilot/source_4/workspace/backend/2020_11_04_CPJUMP1/BR00117004/BR00117004.sqlite to ../big_drive/sc_data/BR00117004.sqlite\n",
      "download: s3://cellpainting-gallery/cpg0000-jump-pilot/source_4/workspace/backend/2020_11_04_CPJUMP1/BR00117005/BR00117005.sqlite to ../big_drive/sc_data/BR00117005.sqlite\n",
      "download: s3://cellpainting-gallery/cpg0000-jump-pilot/source_4/workspace/backend/2020_11_04_CPJUMP1/BR00117000/BR00117000.sqlite to ../big_drive/sc_data/BR00117000.sqlite\n",
      "download: s3://cellpainting-gallery/cpg0000-jump-pilot/source_4/workspace/backend/2020_11_04_CPJUMP1/BR00117002/BR00117002.sqlite to ../big_drive/sc_data/BR00117002.sqlite\n",
      "download: s3://cellpainting-gallery/cpg0000-jump-pilot/source_4/workspace/backend/2020_11_04_CPJUMP1/BR00117001/BR00117001.sqlite to ../big_drive/sc_data/BR00117001.sqlite\n",
      "download: s3://cellpainting-gallery/cpg0000-jump-pilot/source_4/workspace/backend/2020_11_04_CPJUMP1/BR00116997/BR00116997.sqlite to ../big_drive/sc_data/BR00116997.sqlite\n",
      "download: s3://cellpainting-gallery/cpg0000-jump-pilot/source_4/workspace/backend/2020_11_04_CPJUMP1/BR00116998/BR00116998.sqlite to ../big_drive/sc_data/BR00116998.sqlite\n",
      "download: s3://cellpainting-gallery/cpg0000-jump-pilot/source_4/workspace/backend/2020_11_04_CPJUMP1/BR00116999/BR00116999.sqlite to ../big_drive/sc_data/BR00116999.sqlite\n",
      "download: s3://cellpainting-gallery/cpg0000-jump-pilot/source_4/workspace/backend/2020_11_04_CPJUMP1/BR00116996/BR00116996.sqlite to ../big_drive/sc_data/BR00116996.sqlite\n",
      "download: s3://cellpainting-gallery/cpg0000-jump-pilot/source_4/workspace/backend/2020_11_04_CPJUMP1/BR00116991/BR00116991.sqlite to ../big_drive/sc_data/BR00116991.sqlite\n",
      "download: s3://cellpainting-gallery/cpg0000-jump-pilot/source_4/workspace/backend/2020_11_04_CPJUMP1/BR00116992/BR00116992.sqlite to ../big_drive/sc_data/BR00116992.sqlite\n",
      "download: s3://cellpainting-gallery/cpg0000-jump-pilot/source_4/workspace/backend/2020_11_04_CPJUMP1/BR00116993/BR00116993.sqlite to ../big_drive/sc_data/BR00116993.sqlite\n",
      "download: s3://cellpainting-gallery/cpg0000-jump-pilot/source_4/workspace/backend/2020_11_04_CPJUMP1/BR00116994/BR00116994.sqlite to ../big_drive/sc_data/BR00116994.sqlite\n",
      "download: s3://cellpainting-gallery/cpg0000-jump-pilot/source_4/workspace/backend/2020_11_04_CPJUMP1/BR00116995/BR00116995.sqlite to ../big_drive/sc_data/BR00116995.sqlite\n",
      "download: s3://cellpainting-gallery/cpg0000-jump-pilot/source_4/workspace/backend/2020_11_04_CPJUMP1/BR00117024/BR00117024.sqlite to ../big_drive/sc_data/BR00117024.sqlite\n",
      "download: s3://cellpainting-gallery/cpg0000-jump-pilot/source_4/workspace/backend/2020_11_04_CPJUMP1/BR00117025/BR00117025.sqlite to ../big_drive/sc_data/BR00117025.sqlite\n",
      "download: s3://cellpainting-gallery/cpg0000-jump-pilot/source_4/workspace/backend/2020_11_04_CPJUMP1/BR00117026/BR00117026.sqlite to ../big_drive/sc_data/BR00117026.sqlite\n",
      "download: s3://cellpainting-gallery/cpg0000-jump-pilot/source_4/workspace/backend/2020_11_04_CPJUMP1/BR00117017/BR00117017.sqlite to ../big_drive/sc_data/BR00117017.sqlite\n",
      "download: s3://cellpainting-gallery/cpg0000-jump-pilot/source_4/workspace/backend/2020_11_04_CPJUMP1/BR00117019/BR00117019.sqlite to ../big_drive/sc_data/BR00117019.sqlite\n",
      "download: s3://cellpainting-gallery/cpg0000-jump-pilot/source_4/workspace/backend/2020_11_04_CPJUMP1/BR00117015/BR00117015.sqlite to ../big_drive/sc_data/BR00117015.sqlite\n",
      "download: s3://cellpainting-gallery/cpg0000-jump-pilot/source_4/workspace/backend/2020_11_04_CPJUMP1/BR00117016/BR00117016.sqlite to ../big_drive/sc_data/BR00117016.sqlite\n",
      "download: s3://cellpainting-gallery/cpg0000-jump-pilot/source_4/workspace/backend/2020_11_04_CPJUMP1/BR00117012/BR00117012.sqlite to ../big_drive/sc_data/BR00117012.sqlite\n",
      "download: s3://cellpainting-gallery/cpg0000-jump-pilot/source_4/workspace/backend/2020_11_04_CPJUMP1/BR00117013/BR00117013.sqlite to ../big_drive/sc_data/BR00117013.sqlite\n",
      "download: s3://cellpainting-gallery/cpg0000-jump-pilot/source_4/workspace/backend/2020_11_04_CPJUMP1/BR00117010/BR00117010.sqlite to ../big_drive/sc_data/BR00117010.sqlite\n",
      "download: s3://cellpainting-gallery/cpg0000-jump-pilot/source_4/workspace/backend/2020_11_04_CPJUMP1/BR00117011/BR00117011.sqlite to ../big_drive/sc_data/BR00117011.sqlite\n",
      "download: s3://cellpainting-gallery/cpg0000-jump-pilot/source_4/workspace/backend/2020_11_04_CPJUMP1/BR00117054/BR00117054.sqlite to ../big_drive/sc_data/BR00117054.sqlite\n",
      "download: s3://cellpainting-gallery/cpg0000-jump-pilot/source_4/workspace/backend/2020_11_04_CPJUMP1/BR00117055/BR00117055.sqlite to ../big_drive/sc_data/BR00117055.sqlite\n",
      "download: s3://cellpainting-gallery/cpg0000-jump-pilot/source_4/workspace/backend/2020_11_04_CPJUMP1/BR00117008/BR00117008.sqlite to ../big_drive/sc_data/BR00117008.sqlite\n",
      "download: s3://cellpainting-gallery/cpg0000-jump-pilot/source_4/workspace/backend/2020_11_04_CPJUMP1/BR00117009/BR00117009.sqlite to ../big_drive/sc_data/BR00117009.sqlite\n",
      "download: s3://cellpainting-gallery/cpg0000-jump-pilot/source_4/workspace/backend/2020_11_04_CPJUMP1/BR00117052/BR00117052.sqlite to ../big_drive/sc_data/BR00117052.sqlite\n",
      "download: s3://cellpainting-gallery/cpg0000-jump-pilot/source_4/workspace/backend/2020_11_04_CPJUMP1/BR00117053/BR00117053.sqlite to ../big_drive/sc_data/BR00117053.sqlite\n",
      "download: s3://cellpainting-gallery/cpg0000-jump-pilot/source_4/workspace/backend/2020_11_04_CPJUMP1/BR00117050/BR00117050.sqlite to ../big_drive/sc_data/BR00117050.sqlite\n",
      "download: s3://cellpainting-gallery/cpg0000-jump-pilot/source_4/workspace/backend/2020_11_04_CPJUMP1/BR00117051/BR00117051.sqlite to ../big_drive/sc_data/BR00117051.sqlite\n"
     ]
    },
    {
     "data": {
      "text/plain": [
       "CompletedProcess(args=['bash', 'download_from_aws.sh', 'data/jump_dataset_location_manifest.csv', '/home/camo/projects/JUMP-single-cell/big_drive/sc_data', 'sqlite_file'], returncode=0)"
      ]
     },
     "execution_count": 3,
     "metadata": {},
     "output_type": "execute_result"
    }
   ],
   "source": [
    "# Specify the data path for downloading the data\n",
    "download_map = \"data/jump_dataset_location_manifest.csv\"\n",
    "\n",
    "# Specify the location to save the data\n",
    "save_location = f\"{root_dir}/big_drive/sc_data\"\n",
    "\n",
    "# The script for downloading sqlite files from aws\n",
    "aws_download_script = \"download_from_aws.sh\"\n",
    "\n",
    "# The column name of the sqlite file\n",
    "path_column = \"sqlite_file\"\n",
    "\n",
    "# Create the necessary directories if non-existent\n",
    "pathlib.Path(save_location).mkdir(parents=True, exist_ok=True)\n",
    "\n",
    "# Download the data using a bash script\n",
    "subprocess.run([\"bash\", aws_download_script, download_map, save_location, path_column])"
   ]
  }
 ],
 "metadata": {
  "anaconda-cloud": {},
  "kernelspec": {
   "display_name": "python",
   "language": "python",
   "name": "python3"
  },
  "language_info": {
   "codemirror_mode": {
    "name": "ipython",
    "version": 3
   },
   "file_extension": ".py",
   "mimetype": "text/x-python",
   "name": "python",
   "nbconvert_exporter": "python",
   "pygments_lexer": "ipython3",
   "version": "3.9.16"
  }
 },
 "nbformat": 4,
 "nbformat_minor": 4
}
