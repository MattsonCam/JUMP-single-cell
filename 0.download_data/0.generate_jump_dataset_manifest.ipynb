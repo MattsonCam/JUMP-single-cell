{
 "cells": [
  {
   "cell_type": "markdown",
   "metadata": {
    "jukit_cell_id": "BjXwKHb2UD"
   },
   "source": [
    "# Creates and stores the aws s3 plate data paths"
   ]
  },
  {
   "cell_type": "markdown",
   "metadata": {
    "jukit_cell_id": "Sj3yqPgfXf"
   },
   "source": [
    "## Imports"
   ]
  },
  {
   "cell_type": "code",
   "execution_count": 1,
   "metadata": {
    "execution": {
     "iopub.execute_input": "2023-08-07T21:45:22.304570Z",
     "iopub.status.busy": "2023-08-07T21:45:22.304472Z",
     "iopub.status.idle": "2023-08-07T21:45:22.500246Z",
     "shell.execute_reply": "2023-08-07T21:45:22.499936Z"
    },
    "jukit_cell_id": "7CjICyvASe"
   },
   "outputs": [],
   "source": [
    "import pathlib\n",
    "\n",
    "import pandas as pd\n",
    "import requests"
   ]
  },
  {
   "cell_type": "markdown",
   "metadata": {
    "jukit_cell_id": "MWVwTo28Kp"
   },
   "source": [
    "## Create the output path if it doesn't exist"
   ]
  },
  {
   "cell_type": "code",
   "execution_count": 2,
   "metadata": {
    "execution": {
     "iopub.execute_input": "2023-08-07T21:45:22.502440Z",
     "iopub.status.busy": "2023-08-07T21:45:22.502016Z",
     "iopub.status.idle": "2023-08-07T21:45:22.504128Z",
     "shell.execute_reply": "2023-08-07T21:45:22.503890Z"
    },
    "jukit_cell_id": "VvRJxNUbeZ"
   },
   "outputs": [],
   "source": [
    "output_path = pathlib.Path(\"data\")\n",
    "output_path.mkdir(parents=True, exist_ok=True)"
   ]
  },
  {
   "cell_type": "markdown",
   "metadata": {
    "jukit_cell_id": "oxnis1s37X"
   },
   "source": [
    "## Store the plate paths"
   ]
  },
  {
   "cell_type": "code",
   "execution_count": 3,
   "metadata": {
    "execution": {
     "iopub.execute_input": "2023-08-07T21:45:22.505391Z",
     "iopub.status.busy": "2023-08-07T21:45:22.505139Z",
     "iopub.status.idle": "2023-08-07T21:45:22.699211Z",
     "shell.execute_reply": "2023-08-07T21:45:22.698835Z"
    },
    "jukit_cell_id": "0jG0Szi8qZ"
   },
   "outputs": [],
   "source": [
    "source = \"source_4\"\n",
    "batch = \"2020_11_04_CPJUMP1\"\n",
    "data_locations = f\"s3://cellpainting-gallery/cpg0000-jump-pilot/{source}/workspace/backend/{batch}\"\n",
    "\n",
    "# Repository owner\n",
    "repo_owner = \"jump-cellpainting\"\n",
    "\n",
    "# Repository name\n",
    "repo_name = \"pilot-cpjump1-data\"\n",
    "\n",
    "# Path to directory in the repo\n",
    "directory_path = f\"profiles/{batch}\"\n",
    "\n",
    "response = requests.get(f\"https://api.github.com/repos/{repo_owner}/{repo_name}/contents/{directory_path}\")\n",
    "data = response.json()\n",
    "\n",
    "# Use the directory names from the repo to specicy the plate names\n",
    "object_names = [item['name'] for item in data if item['type'] == 'dir']\n",
    "\n",
    "sqlite_file = [f\"{data_locations}/{obj_name['name']}/{obj_name['name']}.sqlite\" for obj_name in data if obj_name['type'] == 'dir']\n",
    "\n",
    "manifest_df = pd.DataFrame(\n",
    "        {\"plate\": object_names,\n",
    "         \"sqlite_file\": sqlite_file,\n",
    "         })"
   ]
  },
  {
   "cell_type": "markdown",
   "metadata": {
    "jukit_cell_id": "vGbVlO6ord"
   },
   "source": [
    "## Save the paths data"
   ]
  },
  {
   "cell_type": "code",
   "execution_count": 4,
   "metadata": {
    "execution": {
     "iopub.execute_input": "2023-08-07T21:45:22.700700Z",
     "iopub.status.busy": "2023-08-07T21:45:22.700579Z",
     "iopub.status.idle": "2023-08-07T21:45:22.709272Z",
     "shell.execute_reply": "2023-08-07T21:45:22.709011Z"
    },
    "jukit_cell_id": "B670chhgfO"
   },
   "outputs": [],
   "source": [
    "manifest_df.to_csv(output_path / \"jump_dataset_location_manifest.csv\", index=False)"
   ]
  }
 ],
 "metadata": {
  "anaconda-cloud": {},
  "kernelspec": {
   "display_name": "python",
   "language": "python",
   "name": "python3"
  },
  "language_info": {
   "codemirror_mode": {
    "name": "ipython",
    "version": 3
   },
   "file_extension": ".py",
   "mimetype": "text/x-python",
   "name": "python",
   "nbconvert_exporter": "python",
   "pygments_lexer": "ipython3",
   "version": "3.9.16"
  }
 },
 "nbformat": 4,
 "nbformat_minor": 4
}
