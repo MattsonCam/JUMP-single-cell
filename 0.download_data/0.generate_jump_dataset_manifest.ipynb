{
 "cells": [
  {
   "cell_type": "markdown",
   "metadata": {
    "jukit_cell_id": "BjXwKHb2UD"
   },
   "source": [
    "# Creates and stores the aws s3 plate data paths"
   ]
  },
  {
   "cell_type": "markdown",
   "metadata": {
    "jukit_cell_id": "Sj3yqPgfXf"
   },
   "source": [
    "## Imports"
   ]
  },
  {
   "cell_type": "code",
   "execution_count": 1,
   "metadata": {
    "execution": {
     "iopub.execute_input": "2023-08-08T21:41:46.484931Z",
     "iopub.status.busy": "2023-08-08T21:41:46.484605Z",
     "iopub.status.idle": "2023-08-08T21:41:46.665329Z",
     "shell.execute_reply": "2023-08-08T21:41:46.664985Z"
    },
    "jukit_cell_id": "7CjICyvASe"
   },
   "outputs": [],
   "source": [
    "import pathlib\n",
    "\n",
    "import pandas as pd"
   ]
  },
  {
   "cell_type": "markdown",
   "metadata": {
    "jukit_cell_id": "9vi1wU37i8"
   },
   "source": [
    "## Find the root of the git repo on the host system"
   ]
  },
  {
   "cell_type": "code",
   "execution_count": 2,
   "metadata": {
    "execution": {
     "iopub.execute_input": "2023-08-08T21:41:46.667127Z",
     "iopub.status.busy": "2023-08-08T21:41:46.666985Z",
     "iopub.status.idle": "2023-08-08T21:41:46.669807Z",
     "shell.execute_reply": "2023-08-08T21:41:46.669495Z"
    },
    "jukit_cell_id": "NMany7XQbF"
   },
   "outputs": [],
   "source": [
    "# Get the current working directory\n",
    "cwd = pathlib.Path.cwd()\n",
    "\n",
    "if (cwd / \".git\").is_dir():\n",
    "    root_dir = cwd\n",
    "\n",
    "else:\n",
    "    root_dir = None\n",
    "    for parent in cwd.parents:\n",
    "        if (parent / \".git\").is_dir():\n",
    "            root_dir = parent\n",
    "            break\n",
    "\n",
    "# Check if a Git root directory was found\n",
    "if root_dir is None:\n",
    "    raise FileNotFoundError(\"No Git root directory found.\")"
   ]
  },
  {
   "cell_type": "markdown",
   "metadata": {
    "jukit_cell_id": "5SF7QCgSFw"
   },
   "source": [
    "## Load a dataframe of plate names from the reference data"
   ]
  },
  {
   "cell_type": "code",
   "execution_count": 3,
   "metadata": {
    "execution": {
     "iopub.execute_input": "2023-08-08T21:41:46.671317Z",
     "iopub.status.busy": "2023-08-08T21:41:46.671103Z",
     "iopub.status.idle": "2023-08-08T21:41:46.674065Z",
     "shell.execute_reply": "2023-08-08T21:41:46.673791Z"
    },
    "jukit_cell_id": "R12JoUafbz"
   },
   "outputs": [],
   "source": [
    "filename = \"barcode_platemap.csv\"\n",
    "plate_name_path = f\"{root_dir}/reference_plate_data/{filename}\"\n",
    "plate_namedf = pd.read_csv(plate_name_path)"
   ]
  },
  {
   "cell_type": "markdown",
   "metadata": {
    "jukit_cell_id": "MWVwTo28Kp"
   },
   "source": [
    "## Create the output path if it doesn't exist"
   ]
  },
  {
   "cell_type": "code",
   "execution_count": 4,
   "metadata": {
    "execution": {
     "iopub.execute_input": "2023-08-08T21:41:46.675435Z",
     "iopub.status.busy": "2023-08-08T21:41:46.675337Z",
     "iopub.status.idle": "2023-08-08T21:41:46.677531Z",
     "shell.execute_reply": "2023-08-08T21:41:46.677182Z"
    },
    "jukit_cell_id": "VvRJxNUbeZ"
   },
   "outputs": [],
   "source": [
    "output_path = pathlib.Path(\"data\")\n",
    "output_path.mkdir(parents=True, exist_ok=True)"
   ]
  },
  {
   "cell_type": "markdown",
   "metadata": {
    "jukit_cell_id": "oxnis1s37X"
   },
   "source": [
    "## Store the plate paths"
   ]
  },
  {
   "cell_type": "code",
   "execution_count": 5,
   "metadata": {
    "execution": {
     "iopub.execute_input": "2023-08-08T21:41:46.679214Z",
     "iopub.status.busy": "2023-08-08T21:41:46.679009Z",
     "iopub.status.idle": "2023-08-08T21:41:46.683294Z",
     "shell.execute_reply": "2023-08-08T21:41:46.682987Z"
    },
    "jukit_cell_id": "0jG0Szi8qZ"
   },
   "outputs": [],
   "source": [
    "source = \"source_4\"\n",
    "batch = \"2020_11_04_CPJUMP1\"\n",
    "data_locations = f\"s3://cellpainting-gallery/cpg0000-jump-pilot/{source}/workspace/backend/{batch}\"\n",
    "\n",
    "# Use the directory names from the repo to specicy the plate names\n",
    "object_names = [item['Assay_Plate_Barcode'] for _, item in plate_namedf.iterrows()]\n",
    "\n",
    "sqlite_file = [f\"{data_locations}/{obj_name}/{obj_name}.sqlite\" for obj_name in object_names]\n",
    "\n",
    "manifest_df = pd.DataFrame(\n",
    "        {\"plate\": object_names,\n",
    "         \"sqlite_file\": sqlite_file,\n",
    "         })"
   ]
  },
  {
   "cell_type": "markdown",
   "metadata": {
    "jukit_cell_id": "vGbVlO6ord"
   },
   "source": [
    "## Save the paths data"
   ]
  },
  {
   "cell_type": "code",
   "execution_count": 6,
   "metadata": {
    "execution": {
     "iopub.execute_input": "2023-08-08T21:41:46.684688Z",
     "iopub.status.busy": "2023-08-08T21:41:46.684590Z",
     "iopub.status.idle": "2023-08-08T21:41:46.687233Z",
     "shell.execute_reply": "2023-08-08T21:41:46.686957Z"
    },
    "jukit_cell_id": "B670chhgfO"
   },
   "outputs": [],
   "source": [
    "manifest_df.to_csv(output_path / \"jump_dataset_location_manifest.csv\", index=False)"
   ]
  }
 ],
 "metadata": {
  "anaconda-cloud": {},
  "kernelspec": {
   "display_name": "python",
   "language": "python",
   "name": "python3"
  },
  "language_info": {
   "codemirror_mode": {
    "name": "ipython",
    "version": 3
   },
   "file_extension": ".py",
   "mimetype": "text/x-python",
   "name": "python",
   "nbconvert_exporter": "python",
   "pygments_lexer": "ipython3",
   "version": "3.9.16"
  }
 },
 "nbformat": 4,
 "nbformat_minor": 4
}
