{
  "cells": [
    {
      "cell_type": "markdown",
      "metadata": {
        "jukit_cell_id": "7T0gePh3Zn"
      },
      "source": [
        "# Download sqlite plate data from aws\n",
        "Note, this script was not rerun to display the outputs for the sake of time. To download the data, you must be signed into your aws account"
      ]
    },
    {
      "cell_type": "markdown",
      "metadata": {
        "jukit_cell_id": "ddhh5egm7R"
      },
      "source": [
        "## Imports"
      ]
    },
    {
      "cell_type": "code",
      "metadata": {
        "jukit_cell_id": "XqllLfeEBZ"
      },
      "source": [
        "import pathlib\n",
        "import subprocess"
      ],
      "outputs": [],
      "execution_count": null
    },
    {
      "cell_type": "markdown",
      "metadata": {
        "jukit_cell_id": "q52bES5PJV"
      },
      "source": [
        "## Find the root of the git directory\n",
        "This allows file paths to be referenced in a system agnostic way"
      ]
    },
    {
      "cell_type": "code",
      "metadata": {
        "jukit_cell_id": "xCbL8BuHjD"
      },
      "source": [
        "# Get the current working directory\n",
        "cwd = pathlib.Path.cwd()\n",
        "\n",
        "if (cwd / \".git\").is_dir():\n",
        "    root_dir = cwd\n",
        "\n",
        "else:\n",
        "    root_dir = None\n",
        "    for parent in cwd.parents:\n",
        "        if (parent / \".git\").is_dir():\n",
        "            root_dir = parent\n",
        "            break\n",
        "\n",
        "# Check if a Git root directory was found\n",
        "if root_dir is None:\n",
        "    raise FileNotFoundError(\"No Git root directory found.\")"
      ],
      "outputs": [],
      "execution_count": null
    },
    {
      "cell_type": "markdown",
      "metadata": {
        "jukit_cell_id": "DgPm3tAEsr"
      },
      "source": [
        "## Download the plate sqlite data from AWS S3"
      ]
    },
    {
      "cell_type": "code",
      "metadata": {
        "jukit_cell_id": "NDX1gPfGsN"
      },
      "source": [
        "# Specify the data path for downloading the data\n",
        "download_map = \"jump_paths.csv\"\n",
        "\n",
        "# Specify the location to save the data\n",
        "save_location = f\"{root_dir}/big_drive/data\"\n",
        "\n",
        "# Create the necessary directories if non-existent\n",
        "pathlib.Path(save_location).mkdir(parents=True, exist_ok=True)\n",
        "\n",
        "# Download the data using a bash script\n",
        "subprocess.run([\"bash\", \"download_from_aws.sh\", download_map, save_location])"
      ],
      "outputs": [
        {
          "output_type": "stream",
          "name": "stdout",
          "text": "\u001b[0;31m---------------------------------------------------------------------\u001b[0m\n\u001b[0;31mNameError\u001b[0m                           Traceback (most recent call last)\nCell \u001b[0;32mIn[6], line 5\u001b[0m\n\u001b[1;32m      2\u001b[0m download_map \u001b[38;5;241m=\u001b[39m \u001b[38;5;124m\"\u001b[39m\u001b[38;5;124mjump_dataset.csv\u001b[39m\u001b[38;5;124m\"\u001b[39m\n\u001b[1;32m      4\u001b[0m \u001b[38;5;66;03m# Specify the location to save the data\u001b[39;00m\n\u001b[0;32m----> 5\u001b[0m save_location \u001b[38;5;241m=\u001b[39m \u001b[38;5;124mf\u001b[39m\u001b[38;5;124m\"\u001b[39m\u001b[38;5;132;01m{\u001b[39;00m\u001b[43mroot_dir\u001b[49m\u001b[38;5;132;01m}\u001b[39;00m\u001b[38;5;124m/big_drive/temp_plate_data\u001b[39m\u001b[38;5;124m\"\u001b[39m\n\u001b[1;32m      7\u001b[0m \u001b[38;5;66;03m# Download the data using a bash script\u001b[39;00m\n\u001b[1;32m      8\u001b[0m subprocess\u001b[38;5;241m.\u001b[39mrun([\u001b[38;5;124m\"\u001b[39m\u001b[38;5;124mbash\u001b[39m\u001b[38;5;124m\"\u001b[39m, \u001b[38;5;124m\"\u001b[39m\u001b[38;5;124mdownload_from_aws.sh\u001b[39m\u001b[38;5;124m\"\u001b[39m, download_map, save_location])\n\n\u001b[0;31mNameError\u001b[0m: name 'root_dir' is not defined\n"
        }
      ],
      "execution_count": 1
    }
  ],
  "metadata": {
    "anaconda-cloud": {},
    "kernelspec": {
      "display_name": "python",
      "language": "python",
      "name": "python3"
    }
  },
  "nbformat": 4,
  "nbformat_minor": 4
}