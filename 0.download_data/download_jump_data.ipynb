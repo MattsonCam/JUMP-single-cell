{
  "cells": [
    {
      "cell_type": "markdown",
      "metadata": {
        "jukit_cell_id": "TM56DRUlQQ"
      },
      "source": [
        "# Download sqlite plate data from aws\n",
        "Note, this script was not rerun to display the outputs for the sake of time. To download the data, you must be signed into your aws account"
      ]
    },
    {
      "cell_type": "markdown",
      "metadata": {
        "jukit_cell_id": "7T0gePh3Zn"
      },
      "source": [
        "## Imports"
      ]
    },
    {
      "cell_type": "code",
      "metadata": {
        "jukit_cell_id": "XqllLfeEBZ"
      },
      "source": [
        "import subprocess\n",
        "import pathlib.Path"
      ],
      "outputs": [],
      "execution_count": null
    },
    {
      "cell_type": "markdown",
      "metadata": {
        "jukit_cell_id": "q52bES5PJV"
      },
      "source": [
        "## Find the root of the git directory\n",
        "This allows file paths to be referenced in a system agnostic way"
      ]
    },
    {
      "cell_type": "code",
      "metadata": {
        "jukit_cell_id": "xCbL8BuHjD"
      },
      "source": [
        "# Get the current working directory\n",
        "cwd = pathlib.Path.cwd()\n",
        "\n",
        "if (cwd / \".git\").is_dir():\n",
        "    root_dir = cwd\n",
        "\n",
        "else:\n",
        "    root_dir = None\n",
        "    for parent in cwd.parents:\n",
        "        if (parent / \".git\").is_dir():\n",
        "            root_dir = parent\n",
        "            break\n",
        "\n",
        "# Check if a Git root directory was found\n",
        "if root_dir is None:\n",
        "    raise FileNotFoundError(\"No Git root directory found.\")"
      ],
      "outputs": [],
      "execution_count": null
    },
    {
      "cell_type": "markdown",
      "metadata": {
        "jukit_cell_id": "DgPm3tAEsr"
      },
      "source": [
        "## Download the plate sqlite data from AWS S3"
      ]
    },
    {
      "cell_type": "code",
      "metadata": {
        "jukit_cell_id": "NDX1gPfGsN"
      },
      "source": [
        "# Specify the data path for downloading the data\n",
        "download_map = \"jump_dataset.csv\"\n",
        "\n",
        "# Specify the location to save the data\n",
        "save_location = f\"{root_dir}/big_drive\"\n",
        "\n",
        "# Download the data using a bash script\n",
        "subprocess.run([\"bash\", \"download_jump_data.sh\", download_map, save_location])"
      ],
      "outputs": [],
      "execution_count": null
    }
  ],
  "metadata": {
    "anaconda-cloud": {},
    "kernelspec": {
      "display_name": "python",
      "language": "python",
      "name": "python3"
    }
  },
  "nbformat": 4,
  "nbformat_minor": 4
}