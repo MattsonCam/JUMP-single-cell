{
  "cells": [
    {
      "cell_type": "markdown",
      "metadata": {
        "jukit_cell_id": "TM56DRUlQQ"
      },
      "source": [
        "# Download sqlite plate data from aws\n",
        "Must be signed into your aws account"
      ]
    },
    {
      "cell_type": "markdown",
      "metadata": {
        "jukit_cell_id": "7T0gePh3Zn"
      },
      "source": [
        "## Imports"
      ]
    },
    {
      "cell_type": "code",
      "metadata": {
        "jukit_cell_id": "XqllLfeEBZ"
      },
      "source": [
        "import subprocess\n",
        "import os"
      ],
      "outputs": [],
      "execution_count": null
    },
    {
      "cell_type": "markdown",
      "metadata": {
        "jukit_cell_id": "DgPm3tAEsr"
      },
      "source": [
        "## Download the plate sqlite data from AWS S3"
      ]
    },
    {
      "cell_type": "code",
      "metadata": {
        "jukit_cell_id": "NDX1gPfGsN"
      },
      "source": [
        "# Get the home directory\n",
        "home_directory = os.environ[\"HOME\"]\n",
        "\n",
        "# Specify the data path for downloading the data\n",
        "download_map = \"jump_dataset.csv\"\n",
        "\n",
        "# Specify the location to save the data\n",
        "save_location = f\"{home_directory}/projects/phenotypic_profiling_analysis/jump_test_dataset/big_drive/data2/\"\n",
        "\n",
        "# Download the data using a bash script\n",
        "subprocess.run([\"bash\", \"download_jump_data.sh\", download_map, save_location])"
      ],
      "outputs": [],
      "execution_count": null
    }
  ],
  "metadata": {
    "anaconda-cloud": {},
    "kernelspec": {
      "display_name": "python",
      "language": "python",
      "name": "python3"
    }
  },
  "nbformat": 4,
  "nbformat_minor": 4
}